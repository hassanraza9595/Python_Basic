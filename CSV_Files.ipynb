{
 "cells": [
  {
   "cell_type": "markdown",
   "metadata": {},
   "source": [
    "### CSV Files"
   ]
  },
  {
   "cell_type": "code",
   "execution_count": 1,
   "metadata": {},
   "outputs": [],
   "source": [
    "import csv"
   ]
  },
  {
   "cell_type": "code",
   "execution_count": 33,
   "metadata": {},
   "outputs": [
    {
     "name": "stdout",
     "output_type": "stream",
     "text": [
      "['Year', 'Event', 'Winner']\n",
      "['1995', 'Best-Kept Lawn', 'None']\n",
      "['1999', 'Gobstones', 'Welch National']\n",
      "['2006', 'World Cup', 'Burkina Faso']\n"
     ]
    }
   ],
   "source": [
    "with open('demo.csv') as read_csv:\n",
    "    data = csv.reader(read_csv)\n",
    "    store_data = []\n",
    "    for each in data:\n",
    "        print(each)\n",
    "        store_data += each"
   ]
  },
  {
   "cell_type": "code",
   "execution_count": 35,
   "metadata": {},
   "outputs": [
    {
     "data": {
      "text/plain": [
       "4"
      ]
     },
     "execution_count": 35,
     "metadata": {},
     "output_type": "execute_result"
    }
   ],
   "source": [
    "store_data.index('Best-Kept Lawn')"
   ]
  },
  {
   "cell_type": "code",
   "execution_count": 40,
   "metadata": {},
   "outputs": [
    {
     "name": "stdout",
     "output_type": "stream",
     "text": [
      "Enter the name of a competition:None\n",
      "The winner was 1999\n"
     ]
    }
   ],
   "source": [
    "target = input(\"Enter the name of a competition:\")\n",
    "index_number_of_target = store_data.index(target)\n",
    "# print(index_number_of_target)\n",
    "index_number_of_winner = index_number_of_target + 1\n",
    "the_winner = store_data[index_number_of_winner]\n",
    "print(\"The winner was \" + the_winner)"
   ]
  },
  {
   "cell_type": "code",
   "execution_count": 41,
   "metadata": {},
   "outputs": [],
   "source": [
    "with open(\"demo.csv\", \"w\", newline=\"\") as f:\n",
    "    data_handler = csv.writer(f, delimiter=\",\")\n",
    "    data_handler.writerow(['Country', 'Rate', 'Incidents', 'Population'])\n",
    "    data_handler.writerow(['South Africa', '132.40', '86704', '56565656'])\n",
    "    data_handler.writerow(['USA', '67.40', '66704', '166565656']) \n",
    "    data_handler.writerow(['Mexico', '43.40', '3704', '565656'])"
   ]
  },
  {
   "cell_type": "code",
   "execution_count": 46,
   "metadata": {},
   "outputs": [],
   "source": [
    "# Appending rows to them\n",
    "with open('demo.csv', 'a', newline=\"\") as f:\n",
    "    data_handler = csv.writer(f, delimiter=\",\")\n",
    "    data_handler.writerow(['Name', 'Roll_NO', 'CNIC', 'Phone'])\n",
    "    data_handler.writerow(['Hassan Raza', 46, 4340704435101, 923223012380])"
   ]
  }
 ],
 "metadata": {
  "kernelspec": {
   "display_name": "Python 3",
   "language": "python",
   "name": "python3"
  },
  "language_info": {
   "codemirror_mode": {
    "name": "ipython",
    "version": 3
   },
   "file_extension": ".py",
   "mimetype": "text/x-python",
   "name": "python",
   "nbconvert_exporter": "python",
   "pygments_lexer": "ipython3",
   "version": "3.7.4"
  }
 },
 "nbformat": 4,
 "nbformat_minor": 2
}
