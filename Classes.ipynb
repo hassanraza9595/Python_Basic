{
 "cells": [
  {
   "cell_type": "markdown",
   "metadata": {},
   "source": [
    "# Classes"
   ]
  },
  {
   "cell_type": "code",
   "execution_count": 49,
   "metadata": {},
   "outputs": [],
   "source": [
    "class Patient:\n",
    "    def __init__(self, last_name, first_name, age):\n",
    "        self.last_name = last_name\n",
    "        self.first_name = first_name\n",
    "        self.age = age\n",
    "    def say_if_minor(self):\n",
    "        if self.age < 25:\n",
    "            print(self.first_name + \" \" + self.last_name + \" is a minor\")\n",
    "    def change_last_name(self, new_last_name, new_first_name, new_age):\n",
    "        self.last_name = new_last_name  \n",
    "        self.first_name = new_first_name\n",
    "        self.age = new_age"
   ]
  },
  {
   "cell_type": "code",
   "execution_count": 50,
   "metadata": {},
   "outputs": [],
   "source": [
    "pid4343 = Patient(\"Raza\", \"Hassan\", 21)\n",
    "pid4344 = Patient(\"Qureshi\", \"Junaid\", 22)\n",
    "pid4345 = Patient(\"Bashir\", \"Asif\", 23)\n",
    "pid4346 = Patient(\"Jesswani\", \"Parvesh\", 23)\n",
    "pid12902 = Patient(\"Jat\", \"Qayoom\", 24)"
   ]
  },
  {
   "cell_type": "code",
   "execution_count": 38,
   "metadata": {},
   "outputs": [
    {
     "name": "stdout",
     "output_type": "stream",
     "text": [
      "Qayoom Jat is a minor\n"
     ]
    }
   ],
   "source": [
    "pid12902.say_if_minor()"
   ]
  },
  {
   "cell_type": "code",
   "execution_count": 51,
   "metadata": {},
   "outputs": [],
   "source": [
    "pid4343.change_last_name('Muhammad', 'Sher', 58)"
   ]
  },
  {
   "cell_type": "code",
   "execution_count": 52,
   "metadata": {},
   "outputs": [
    {
     "data": {
      "text/plain": [
       "58"
      ]
     },
     "execution_count": 52,
     "metadata": {},
     "output_type": "execute_result"
    }
   ],
   "source": [
    "pid4343.age"
   ]
  }
 ],
 "metadata": {
  "kernelspec": {
   "display_name": "Python 3",
   "language": "python",
   "name": "python3"
  },
  "language_info": {
   "codemirror_mode": {
    "name": "ipython",
    "version": 3
   },
   "file_extension": ".py",
   "mimetype": "text/x-python",
   "name": "python",
   "nbconvert_exporter": "python",
   "pygments_lexer": "ipython3",
   "version": "3.7.4"
  }
 },
 "nbformat": 4,
 "nbformat_minor": 2
}
