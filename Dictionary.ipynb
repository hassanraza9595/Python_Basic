{
 "cells": [
  {
   "cell_type": "code",
   "execution_count": 27,
   "metadata": {},
   "outputs": [],
   "source": [
    "# Dictionary "
   ]
  },
  {
   "cell_type": "code",
   "execution_count": 28,
   "metadata": {},
   "outputs": [],
   "source": [
    "customer_29876 = {\n",
    " \"first name\": \"David\",\n",
    " \"last name\": \"Elliott\",\n",
    " \"address\": \"4803 Wellesley St.\",\n",
    " }"
   ]
  },
  {
   "cell_type": "code",
   "execution_count": 29,
   "metadata": {},
   "outputs": [
    {
     "data": {
      "text/plain": [
       "{'first name': 'David',\n",
       " 'last name': 'Elliott',\n",
       " 'address': '4803 Wellesley St.'}"
      ]
     },
     "execution_count": 29,
     "metadata": {},
     "output_type": "execute_result"
    }
   ],
   "source": [
    "customer_29876"
   ]
  },
  {
   "cell_type": "code",
   "execution_count": 30,
   "metadata": {},
   "outputs": [],
   "source": [
    "# changing value "
   ]
  },
  {
   "cell_type": "code",
   "execution_count": 31,
   "metadata": {},
   "outputs": [],
   "source": [
    "customer_29876['first name'] = 'Hassan'"
   ]
  },
  {
   "cell_type": "code",
   "execution_count": 32,
   "metadata": {},
   "outputs": [
    {
     "data": {
      "text/plain": [
       "'Hassan'"
      ]
     },
     "execution_count": 32,
     "metadata": {},
     "output_type": "execute_result"
    }
   ],
   "source": [
    "customer_29876['first name']"
   ]
  },
  {
   "cell_type": "code",
   "execution_count": 33,
   "metadata": {},
   "outputs": [],
   "source": [
    "# del element"
   ]
  },
  {
   "cell_type": "code",
   "execution_count": 34,
   "metadata": {},
   "outputs": [],
   "source": [
    "del customer_29876['first name']"
   ]
  },
  {
   "cell_type": "code",
   "execution_count": 35,
   "metadata": {},
   "outputs": [
    {
     "data": {
      "text/plain": [
       "{'last name': 'Elliott', 'address': '4803 Wellesley St.'}"
      ]
     },
     "execution_count": 35,
     "metadata": {},
     "output_type": "execute_result"
    }
   ],
   "source": [
    "customer_29876"
   ]
  },
  {
   "cell_type": "code",
   "execution_count": 36,
   "metadata": {},
   "outputs": [],
   "source": [
    "# adding element"
   ]
  },
  {
   "cell_type": "code",
   "execution_count": 37,
   "metadata": {},
   "outputs": [],
   "source": [
    "customer_29876['first name'] = 'Hassan'"
   ]
  },
  {
   "cell_type": "code",
   "execution_count": 38,
   "metadata": {},
   "outputs": [
    {
     "data": {
      "text/plain": [
       "{'last name': 'Elliott',\n",
       " 'address': '4803 Wellesley St.',\n",
       " 'first name': 'Hassan'}"
      ]
     },
     "execution_count": 38,
     "metadata": {},
     "output_type": "execute_result"
    }
   ],
   "source": [
    "customer_29876"
   ]
  },
  {
   "cell_type": "code",
   "execution_count": 39,
   "metadata": {},
   "outputs": [],
   "source": [
    "# extracting values "
   ]
  },
  {
   "cell_type": "code",
   "execution_count": 40,
   "metadata": {},
   "outputs": [
    {
     "name": "stdout",
     "output_type": "stream",
     "text": [
      "Elliott\n",
      "4803 Wellesley St.\n",
      "Hassan\n"
     ]
    }
   ],
   "source": [
    "for each_value in customer_29876.values():\n",
    "    print(each_value)"
   ]
  },
  {
   "cell_type": "code",
   "execution_count": 41,
   "metadata": {},
   "outputs": [],
   "source": [
    "# extracting keys "
   ]
  },
  {
   "cell_type": "code",
   "execution_count": 42,
   "metadata": {},
   "outputs": [
    {
     "name": "stdout",
     "output_type": "stream",
     "text": [
      "last name\n",
      "address\n",
      "first name\n"
     ]
    }
   ],
   "source": [
    "for each_key in customer_29876.keys():\n",
    "    print(each_key)"
   ]
  },
  {
   "cell_type": "code",
   "execution_count": 43,
   "metadata": {},
   "outputs": [],
   "source": [
    "# extracting both"
   ]
  },
  {
   "cell_type": "code",
   "execution_count": 44,
   "metadata": {},
   "outputs": [
    {
     "name": "stdout",
     "output_type": "stream",
     "text": [
      "Customer last name is Elliott\n",
      "Customer address is 4803 Wellesley St.\n",
      "Customer first name is Hassan\n"
     ]
    }
   ],
   "source": [
    "for each_key, each_value in customer_29876.items():\n",
    "    print('Customer '+each_key+' is '+each_value)"
   ]
  },
  {
   "cell_type": "code",
   "execution_count": 45,
   "metadata": {},
   "outputs": [],
   "source": [
    "# list of dictionary"
   ]
  },
  {
   "cell_type": "code",
   "execution_count": 46,
   "metadata": {},
   "outputs": [],
   "source": [
    "customers = [\n",
    " {\n",
    " \"customer id\": 0,\n",
    " \"first name\":\"John\",\n",
    " \"last name\": \"Ogden\",\n",
    "    \"address\": \"301 Arbor Rd.\",\n",
    " },\n",
    " {\n",
    " \"customer id\": 1,\n",
    " \"first name\":\"Ann\",\n",
    " \"last name\": \"Sattermyer\",\n",
    " \"address\": \"PO Box 1145\",\n",
    " },\n",
    " {\n",
    " \"customer id\": 2,\n",
    " \"first name\":\"Jill\",\n",
    " \"last name\": \"Somers\",\n",
    " \"address\": \"3 Main St.\",\n",
    " },\n",
    " ]"
   ]
  },
  {
   "cell_type": "code",
   "execution_count": 49,
   "metadata": {},
   "outputs": [
    {
     "data": {
      "text/plain": [
       "[{'customer id': 0,\n",
       "  'first name': 'John',\n",
       "  'last name': 'Ogden',\n",
       "  'address': '301 Arbor Rd.'},\n",
       " {'customer id': 1,\n",
       "  'first name': 'Ann',\n",
       "  'last name': 'Sattermyer',\n",
       "  'address': 'PO Box 1145'},\n",
       " {'customer id': 2,\n",
       "  'first name': 'Jill',\n",
       "  'last name': 'Somers',\n",
       "  'address': '3 Main St.'}]"
      ]
     },
     "execution_count": 49,
     "metadata": {},
     "output_type": "execute_result"
    }
   ],
   "source": [
    "customers"
   ]
  },
  {
   "cell_type": "code",
   "execution_count": 56,
   "metadata": {},
   "outputs": [
    {
     "name": "stdout",
     "output_type": "stream",
     "text": [
      "customer id 0\n",
      "first name John\n",
      "last name Ogden\n",
      "address 301 Arbor Rd.\n",
      "customer id 1\n",
      "first name Ann\n",
      "last name Sattermyer\n",
      "address PO Box 1145\n",
      "customer id 2\n",
      "first name Jill\n",
      "last name Somers\n",
      "address 3 Main St.\n"
     ]
    }
   ],
   "source": [
    "for customer in customers:\n",
    "    for customer_key,customer_value in customer.items():\n",
    "            print(customer_key,customer_value)"
   ]
  },
  {
   "cell_type": "code",
   "execution_count": 61,
   "metadata": {},
   "outputs": [],
   "source": [
    "id = customers[2]['customer id']"
   ]
  },
  {
   "cell_type": "code",
   "execution_count": 62,
   "metadata": {},
   "outputs": [
    {
     "data": {
      "text/plain": [
       "2"
      ]
     },
     "execution_count": 62,
     "metadata": {},
     "output_type": "execute_result"
    }
   ],
   "source": [
    "id"
   ]
  },
  {
   "cell_type": "code",
   "execution_count": 63,
   "metadata": {},
   "outputs": [],
   "source": [
    "new_customer_id = len(customers)"
   ]
  },
  {
   "cell_type": "code",
   "execution_count": 64,
   "metadata": {},
   "outputs": [
    {
     "data": {
      "text/plain": [
       "3"
      ]
     },
     "execution_count": 64,
     "metadata": {},
     "output_type": "execute_result"
    }
   ],
   "source": [
    "new_customer_id"
   ]
  },
  {
   "cell_type": "code",
   "execution_count": null,
   "metadata": {},
   "outputs": [],
   "source": [
    "# insert new dictionary to list "
   ]
  },
  {
   "cell_type": "code",
   "execution_count": 68,
   "metadata": {},
   "outputs": [],
   "source": [
    "# creating first\n",
    "\n",
    "new_dictionary = {\n",
    "\"customer id\": 3,\n",
    "\"first name\": \"Hill\",\n",
    "\"last name\": \"Jack\",\n",
    "\"address\": \"4 Mian City\",\n",
    "}"
   ]
  },
  {
   "cell_type": "code",
   "execution_count": 69,
   "metadata": {},
   "outputs": [],
   "source": [
    "# append into the list of dictionary\n",
    "customers.append(new_dictionary)"
   ]
  },
  {
   "cell_type": "code",
   "execution_count": 71,
   "metadata": {},
   "outputs": [],
   "source": [
    "# customers"
   ]
  },
  {
   "cell_type": "code",
   "execution_count": 72,
   "metadata": {},
   "outputs": [],
   "source": [
    "# Dictionary contains list"
   ]
  },
  {
   "cell_type": "code",
   "execution_count": 73,
   "metadata": {},
   "outputs": [],
   "source": [
    "customer_29876 = {\n",
    " \"first name\": \"David\",\n",
    " \"last name\": \"Elliott\",\n",
    " \"address\": \"4803 Wellesley St.\",\n",
    " \"discounts\": [\"standard\", \"volume\", \"loyalty\"],\n",
    "}"
   ]
  },
  {
   "cell_type": "code",
   "execution_count": 74,
   "metadata": {},
   "outputs": [
    {
     "data": {
      "text/plain": [
       "['standard', 'volume', 'loyalty']"
      ]
     },
     "execution_count": 74,
     "metadata": {},
     "output_type": "execute_result"
    }
   ],
   "source": [
    "customer_29876[\"discounts\"]"
   ]
  },
  {
   "cell_type": "code",
   "execution_count": 75,
   "metadata": {},
   "outputs": [],
   "source": [
    "customer_29876[\"discounts\"].append('new')"
   ]
  },
  {
   "cell_type": "code",
   "execution_count": 76,
   "metadata": {},
   "outputs": [
    {
     "data": {
      "text/plain": [
       "['standard', 'volume', 'loyalty', 'new']"
      ]
     },
     "execution_count": 76,
     "metadata": {},
     "output_type": "execute_result"
    }
   ],
   "source": [
    "customer_29876[\"discounts\"]"
   ]
  },
  {
   "cell_type": "code",
   "execution_count": 77,
   "metadata": {},
   "outputs": [
    {
     "data": {
      "text/plain": [
       "'new'"
      ]
     },
     "execution_count": 77,
     "metadata": {},
     "output_type": "execute_result"
    }
   ],
   "source": [
    "customer_29876[\"discounts\"].pop()"
   ]
  },
  {
   "cell_type": "code",
   "execution_count": 78,
   "metadata": {},
   "outputs": [
    {
     "data": {
      "text/plain": [
       "'David'"
      ]
     },
     "execution_count": 78,
     "metadata": {},
     "output_type": "execute_result"
    }
   ],
   "source": [
    "customer_29876[\"first name\"]"
   ]
  },
  {
   "cell_type": "code",
   "execution_count": 79,
   "metadata": {},
   "outputs": [],
   "source": [
    "# dictionary of dictionary"
   ]
  },
  {
   "cell_type": "code",
   "execution_count": 80,
   "metadata": {},
   "outputs": [],
   "source": [
    "customers = {\n",
    " 0: {\n",
    " \"first name\":\"John\",\n",
    " \"last name\": \"Ogden\",\n",
    " \"address\": \"301 Arbor Rd.\",\n",
    " },\n",
    "    \n",
    " 1: {\n",
    " \"first name\":\"Ann\",\n",
    " \"last name\": \"Sattermyer\",\n",
    " \"address\": \"PO Box 1145\",\n",
    " },\n",
    "    \n",
    " 2: {\n",
    " \"first name\":\"Jill\",\n",
    " \"last name\": \"Somers\",\n",
    " \"address\": \"3 Main St.\",\n",
    " },\n",
    " }"
   ]
  },
  {
   "cell_type": "code",
   "execution_count": 82,
   "metadata": {},
   "outputs": [
    {
     "data": {
      "text/plain": [
       "'301 Arbor Rd.'"
      ]
     },
     "execution_count": 82,
     "metadata": {},
     "output_type": "execute_result"
    }
   ],
   "source": [
    "customers[0]['address']"
   ]
  }
 ],
 "metadata": {
  "kernelspec": {
   "display_name": "Python 3",
   "language": "python",
   "name": "python3"
  },
  "language_info": {
   "codemirror_mode": {
    "name": "ipython",
    "version": 3
   },
   "file_extension": ".py",
   "mimetype": "text/x-python",
   "name": "python",
   "nbconvert_exporter": "python",
   "pygments_lexer": "ipython3",
   "version": "3.7.4"
  }
 },
 "nbformat": 4,
 "nbformat_minor": 2
}
